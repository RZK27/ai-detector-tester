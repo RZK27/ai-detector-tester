{
 "cells": [
  {
   "cell_type": "code",
   "execution_count": null,
   "metadata": {},
   "outputs": [],
   "source": [
    "\"\"\"\n",
    "Group Number 65\n",
    "CPS 834\n",
    "11 30 2024\n",
    "\n",
    "Name                      Student Number      Email\n",
    "-----------------------------------------------------------------------------\n",
    "Harrison Kalathil         501138547           harrison.kalathil@torontomu.ca\n",
    "Maninder Arora            501041960           maninder.arora@torontomu.ca\n",
    "Rahabar Sekandar          501100634           rsekandar@torontomu.ca\n",
    "Steven Chen               501096820           steven1.chen@torontomu.ca\n",
    "\n",
    "This program tests the model created in the ai-detector-trainer directory on data\n",
    "that the model was not trained on.\n",
    "\"\"\""
   ]
  },
  {
   "cell_type": "code",
   "execution_count": null,
   "metadata": {},
   "outputs": [],
   "source": [
    "import numpy as np\n",
    "import cv2\n",
    "import os\n",
    "import setuptools.dist\n",
    "from tensorflow.keras import models"
   ]
  },
  {
   "cell_type": "code",
   "execution_count": null,
   "metadata": {},
   "outputs": [],
   "source": [
    "DIRECTORY = r'.\\data'          # Relative path where images are stored\n",
    "CATEGORIES = [\"real\", \"fake\"]  # Categories of images: real (image is real) and fake (image is ai-generated)\n",
    "IMG_SIZE = 256                 # Image pixel width and height model was trained on"
   ]
  },
  {
   "cell_type": "code",
   "execution_count": null,
   "metadata": {},
   "outputs": [],
   "source": [
    "features = []  # Array to store images as arrays\n",
    "labels = []    # Array to store features' labels (real or fake) as a number (0 or 1) respective\n",
    "               # to their index in features[]\n",
    "\n",
    "# Populate features array with image-arrays and labels array with label-numbers\n",
    "# using os to gather images and cv2 to convert images to arrays\n",
    "for category in CATEGORIES:\n",
    "    folder = os.path.join(DIRECTORY, category)\n",
    "    label = CATEGORIES.index(category)\n",
    "\n",
    "    for image in os.listdir(folder):\n",
    "        image_path = os.path.join(folder, image)\n",
    "        image_arr = cv2.imread(image_path)\n",
    "        image_arr = cv2.resize(image_arr, (IMG_SIZE, IMG_SIZE))\n",
    "        \n",
    "        features.append(image_arr)\n",
    "        labels.append(label)"
   ]
  },
  {
   "cell_type": "code",
   "execution_count": null,
   "metadata": {},
   "outputs": [],
   "source": [
    "\n",
    "# Convert arrays to numpy arrays for tensorflow\n",
    "features = np.array(features) / 255  #  Divide by 255 to convert pixel values (0-255) to decimal (0-1)\n",
    "labels = np.array(labels)"
   ]
  },
  {
   "cell_type": "code",
   "execution_count": null,
   "metadata": {},
   "outputs": [],
   "source": [
    "#  Load model from working directory\n",
    "model = models.load_model('model.keras')"
   ]
  },
  {
   "cell_type": "code",
   "execution_count": null,
   "metadata": {},
   "outputs": [],
   "source": [
    "# Evaluate model accuracy on testing data\n",
    "loss, accuracy = model.evaluate(features, labels, verbose=2)\n",
    "print('Accuracy: {:5.2f}%'.format(100 * accuracy))"
   ]
  }
 ],
 "metadata": {
  "kernelspec": {
   "display_name": "Python 3",
   "language": "python",
   "name": "python3"
  },
  "language_info": {
   "codemirror_mode": {
    "name": "ipython",
    "version": 3
   },
   "file_extension": ".py",
   "mimetype": "text/x-python",
   "name": "python",
   "nbconvert_exporter": "python",
   "pygments_lexer": "ipython3",
   "version": "3.12.0"
  }
 },
 "nbformat": 4,
 "nbformat_minor": 2
}
